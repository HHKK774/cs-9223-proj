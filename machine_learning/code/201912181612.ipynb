{
 "cells": [
  {
   "cell_type": "code",
   "execution_count": 1,
   "metadata": {},
   "outputs": [],
   "source": [
    "import os\n",
    "import boto3\n",
    "import io\n",
    "import sagemaker\n",
    "\n",
    "%matplotlib inline \n",
    "\n",
    "import pandas as pd\n",
    "import numpy as np\n",
    "import mxnet as mx\n",
    "import matplotlib.pyplot as plt\n",
    "import matplotlib\n",
    "import seaborn as sns\n",
    "matplotlib.style.use('ggplot')\n",
    "import pickle, gzip, urllib, json\n",
    "import csv"
   ]
  },
  {
   "cell_type": "code",
   "execution_count": 2,
   "metadata": {},
   "outputs": [],
   "source": [
    "from sagemaker import get_execution_role\n",
    "role = get_execution_role()"
   ]
  },
  {
   "cell_type": "code",
   "execution_count": 3,
   "metadata": {},
   "outputs": [
    {
     "data": {
      "text/plain": [
       "'arn:aws:iam::340187602989:role/service-role/AmazonSageMaker-ExecutionRole-20191215T215711'"
      ]
     },
     "execution_count": 3,
     "metadata": {},
     "output_type": "execute_result"
    }
   ],
   "source": [
    "role"
   ]
  },
  {
   "cell_type": "code",
   "execution_count": 4,
   "metadata": {},
   "outputs": [],
   "source": [
    "s3_client = boto3.client('s3')\n",
    "data_bucket_name='ccprojectbucket1'"
   ]
  },
  {
   "cell_type": "code",
   "execution_count": 5,
   "metadata": {},
   "outputs": [
    {
     "name": "stdout",
     "output_type": "stream",
     "text": [
      "['datasets/', 'datasets/output/ccproject-kmeans2019-12-17-06-24-23/output/model.tar.gz', 'datasets/train/', 'datasets/train/sagemaker_train_data.csv', 'flavor/kmeans-2019-12-17-03-52-22-116/output/model.tar.gz', 'flavor/kmeans-2019-12-17-04-10-43-591/output/model.tar.gz', 'flavor/kmeans-2019-12-17-04-30-32-969/output/model.tar.gz', 'flavor/kmeans-2019-12-17-19-05-52-361/output/model.tar.gz', 'sagemaker_train_data.csv']\n"
     ]
    }
   ],
   "source": [
    "obj_list=s3_client.list_objects(Bucket=data_bucket_name)\n",
    "file=[]\n",
    "for contents in obj_list['Contents']:\n",
    "    file.append(contents['Key'])\n",
    "print(file)"
   ]
  },
  {
   "cell_type": "code",
   "execution_count": 6,
   "metadata": {},
   "outputs": [],
   "source": [
    "file_data='sagemaker_train_data.csv'"
   ]
  },
  {
   "cell_type": "code",
   "execution_count": 7,
   "metadata": {},
   "outputs": [],
   "source": [
    "response = s3_client.get_object(Bucket=data_bucket_name, Key=file_data)\n",
    "response_body = response[\"Body\"].read()\n",
    "train_data = pd.read_csv(io.BytesIO(response_body), header=None, delimiter=\",\", low_memory=False)"
   ]
  },
  {
   "cell_type": "code",
   "execution_count": 8,
   "metadata": {},
   "outputs": [
    {
     "data": {
      "text/html": [
       "<div>\n",
       "<style scoped>\n",
       "    .dataframe tbody tr th:only-of-type {\n",
       "        vertical-align: middle;\n",
       "    }\n",
       "\n",
       "    .dataframe tbody tr th {\n",
       "        vertical-align: top;\n",
       "    }\n",
       "\n",
       "    .dataframe thead th {\n",
       "        text-align: right;\n",
       "    }\n",
       "</style>\n",
       "<table border=\"1\" class=\"dataframe\">\n",
       "  <thead>\n",
       "    <tr style=\"text-align: right;\">\n",
       "      <th></th>\n",
       "      <th>0</th>\n",
       "      <th>1</th>\n",
       "      <th>2</th>\n",
       "      <th>3</th>\n",
       "      <th>4</th>\n",
       "      <th>5</th>\n",
       "    </tr>\n",
       "  </thead>\n",
       "  <tbody>\n",
       "    <tr>\n",
       "      <th>0</th>\n",
       "      <td>0.166667</td>\n",
       "      <td>0.166667</td>\n",
       "      <td>0.833333</td>\n",
       "      <td>0.166667</td>\n",
       "      <td>0.166667</td>\n",
       "      <td>0.000000</td>\n",
       "    </tr>\n",
       "    <tr>\n",
       "      <th>1</th>\n",
       "      <td>0.166667</td>\n",
       "      <td>0.166667</td>\n",
       "      <td>0.833333</td>\n",
       "      <td>0.833333</td>\n",
       "      <td>0.333333</td>\n",
       "      <td>0.833333</td>\n",
       "    </tr>\n",
       "    <tr>\n",
       "      <th>2</th>\n",
       "      <td>0.166667</td>\n",
       "      <td>0.333333</td>\n",
       "      <td>0.833333</td>\n",
       "      <td>0.500000</td>\n",
       "      <td>0.833333</td>\n",
       "      <td>0.166667</td>\n",
       "    </tr>\n",
       "    <tr>\n",
       "      <th>3</th>\n",
       "      <td>0.166667</td>\n",
       "      <td>0.166667</td>\n",
       "      <td>0.833333</td>\n",
       "      <td>0.833333</td>\n",
       "      <td>0.500000</td>\n",
       "      <td>0.000000</td>\n",
       "    </tr>\n",
       "    <tr>\n",
       "      <th>4</th>\n",
       "      <td>0.166667</td>\n",
       "      <td>0.166667</td>\n",
       "      <td>0.666667</td>\n",
       "      <td>0.666667</td>\n",
       "      <td>0.666667</td>\n",
       "      <td>0.000000</td>\n",
       "    </tr>\n",
       "  </tbody>\n",
       "</table>\n",
       "</div>"
      ],
      "text/plain": [
       "          0         1         2         3         4         5\n",
       "0  0.166667  0.166667  0.833333  0.166667  0.166667  0.000000\n",
       "1  0.166667  0.166667  0.833333  0.833333  0.333333  0.833333\n",
       "2  0.166667  0.333333  0.833333  0.500000  0.833333  0.166667\n",
       "3  0.166667  0.166667  0.833333  0.833333  0.500000  0.000000\n",
       "4  0.166667  0.166667  0.666667  0.666667  0.666667  0.000000"
      ]
     },
     "execution_count": 8,
     "metadata": {},
     "output_type": "execute_result"
    }
   ],
   "source": [
    "train_data.head()"
   ]
  },
  {
   "cell_type": "code",
   "execution_count": 9,
   "metadata": {},
   "outputs": [
    {
     "data": {
      "text/plain": [
       "(11390, 6)"
      ]
     },
     "execution_count": 9,
     "metadata": {},
     "output_type": "execute_result"
    }
   ],
   "source": [
    "train_data.shape"
   ]
  },
  {
   "cell_type": "code",
   "execution_count": 10,
   "metadata": {},
   "outputs": [],
   "source": [
    "from sagemaker import KMeans\n",
    "\n",
    "bucket='ccprojectbucket1'\n",
    "num_clusters = 6\n",
    "\n",
    "kmeans = KMeans(role=role,\n",
    "                train_instance_count=1,\n",
    "                train_instance_type='ml.m4.xlarge',\n",
    "                output_path='s3://'+ bucket +'/flavor/',              \n",
    "                k=num_clusters)"
   ]
  },
  {
   "cell_type": "code",
   "execution_count": 11,
   "metadata": {},
   "outputs": [],
   "source": [
    "train_data = train_data.values.astype('float32')"
   ]
  },
  {
   "cell_type": "code",
   "execution_count": 12,
   "metadata": {},
   "outputs": [
    {
     "name": "stdout",
     "output_type": "stream",
     "text": [
      "[0.16666667 0.16666667 0.8333333  0.8333333  0.33333334 0.8333333 ]\n"
     ]
    }
   ],
   "source": [
    "print(train_data[1])"
   ]
  },
  {
   "cell_type": "code",
   "execution_count": 13,
   "metadata": {},
   "outputs": [
    {
     "name": "stdout",
     "output_type": "stream",
     "text": [
      "2019-12-18 20:30:07 Starting - Starting the training job...\n",
      "2019-12-18 20:30:08 Starting - Launching requested ML instances......\n",
      "2019-12-18 20:31:16 Starting - Preparing the instances for training......\n",
      "2019-12-18 20:32:22 Downloading - Downloading input data...\n",
      "2019-12-18 20:33:08 Training - Training image download completed. Training in progress..\u001b[34mDocker entrypoint called with argument(s): train\u001b[0m\n",
      "\u001b[34m[12/18/2019 20:33:11 INFO 140150121895744] Reading default configuration from /opt/amazon/lib/python2.7/site-packages/algorithm/resources/default-input.json: {u'_enable_profiler': u'false', u'_tuning_objective_metric': u'', u'_num_gpus': u'auto', u'local_lloyd_num_trials': u'auto', u'_log_level': u'info', u'_kvstore': u'auto', u'local_lloyd_init_method': u'kmeans++', u'force_dense': u'true', u'epochs': u'1', u'init_method': u'random', u'local_lloyd_tol': u'0.0001', u'local_lloyd_max_iter': u'300', u'_disable_wait_to_read': u'false', u'extra_center_factor': u'auto', u'eval_metrics': u'[\"msd\"]', u'_num_kv_servers': u'1', u'mini_batch_size': u'5000', u'half_life_time_size': u'0', u'_num_slices': u'1'}\u001b[0m\n",
      "\u001b[34m[12/18/2019 20:33:11 INFO 140150121895744] Reading provided configuration from /opt/ml/input/config/hyperparameters.json: {u'feature_dim': u'6', u'k': u'6', u'force_dense': u'True'}\u001b[0m\n",
      "\u001b[34m[12/18/2019 20:33:11 INFO 140150121895744] Final configuration: {u'_tuning_objective_metric': u'', u'extra_center_factor': u'auto', u'local_lloyd_init_method': u'kmeans++', u'force_dense': u'True', u'epochs': u'1', u'feature_dim': u'6', u'local_lloyd_tol': u'0.0001', u'_disable_wait_to_read': u'false', u'eval_metrics': u'[\"msd\"]', u'_num_kv_servers': u'1', u'mini_batch_size': u'5000', u'_enable_profiler': u'false', u'_num_gpus': u'auto', u'local_lloyd_num_trials': u'auto', u'_log_level': u'info', u'init_method': u'random', u'half_life_time_size': u'0', u'local_lloyd_max_iter': u'300', u'_kvstore': u'auto', u'k': u'6', u'_num_slices': u'1'}\u001b[0m\n",
      "\u001b[34m[12/18/2019 20:33:11 WARNING 140150121895744] Loggers have already been setup.\u001b[0m\n",
      "\u001b[34mProcess 1 is a worker.\u001b[0m\n",
      "\u001b[34m[12/18/2019 20:33:11 INFO 140150121895744] Using default worker.\u001b[0m\n",
      "\u001b[34m[12/18/2019 20:33:11 INFO 140150121895744] Loaded iterator creator application/x-recordio-protobuf for content type ('application/x-recordio-protobuf', '1.0')\u001b[0m\n",
      "\u001b[34m[12/18/2019 20:33:11 INFO 140150121895744] Create Store: local\u001b[0m\n",
      "\u001b[34m[12/18/2019 20:33:11 INFO 140150121895744] nvidia-smi took: 0.025181055069 secs to identify 0 gpus\u001b[0m\n",
      "\u001b[34m[12/18/2019 20:33:11 INFO 140150121895744] Number of GPUs being used: 0\u001b[0m\n",
      "\u001b[34m[12/18/2019 20:33:11 INFO 140150121895744] Setting up with params: {u'_tuning_objective_metric': u'', u'extra_center_factor': u'auto', u'local_lloyd_init_method': u'kmeans++', u'force_dense': u'True', u'epochs': u'1', u'feature_dim': u'6', u'local_lloyd_tol': u'0.0001', u'_disable_wait_to_read': u'false', u'eval_metrics': u'[\"msd\"]', u'_num_kv_servers': u'1', u'mini_batch_size': u'5000', u'_enable_profiler': u'false', u'_num_gpus': u'auto', u'local_lloyd_num_trials': u'auto', u'_log_level': u'info', u'init_method': u'random', u'half_life_time_size': u'0', u'local_lloyd_max_iter': u'300', u'_kvstore': u'auto', u'k': u'6', u'_num_slices': u'1'}\u001b[0m\n",
      "\u001b[34m[12/18/2019 20:33:11 INFO 140150121895744] 'extra_center_factor' was set to 'auto', evaluated to 10.\u001b[0m\n",
      "\u001b[34m[12/18/2019 20:33:11 INFO 140150121895744] Number of GPUs being used: 0\u001b[0m\n",
      "\u001b[34m[12/18/2019 20:33:11 INFO 140150121895744] number of center slices 1\u001b[0m\n",
      "\u001b[34m#metrics {\"Metrics\": {\"Max Batches Seen Between Resets\": {\"count\": 1, \"max\": 1, \"sum\": 1.0, \"min\": 1}, \"Number of Batches Since Last Reset\": {\"count\": 1, \"max\": 1, \"sum\": 1.0, \"min\": 1}, \"Number of Records Since Last Reset\": {\"count\": 1, \"max\": 5000, \"sum\": 5000.0, \"min\": 5000}, \"Total Batches Seen\": {\"count\": 1, \"max\": 1, \"sum\": 1.0, \"min\": 1}, \"Total Records Seen\": {\"count\": 1, \"max\": 5000, \"sum\": 5000.0, \"min\": 5000}, \"Max Records Seen Between Resets\": {\"count\": 1, \"max\": 5000, \"sum\": 5000.0, \"min\": 5000}, \"Reset Count\": {\"count\": 1, \"max\": 0, \"sum\": 0.0, \"min\": 0}}, \"EndTime\": 1576701191.399621, \"Dimensions\": {\"Host\": \"algo-1\", \"Meta\": \"init_train_data_iter\", \"Operation\": \"training\", \"Algorithm\": \"AWS/KMeansWebscale\"}, \"StartTime\": 1576701191.399585}\n",
      "\u001b[0m\n",
      "\u001b[34m[2019-12-18 20:33:11.399] [tensorio] [info] epoch_stats={\"data_pipeline\": \"/opt/ml/input/data/train\", \"epoch\": 0, \"duration\": 32, \"num_examples\": 1, \"num_bytes\": 240000}\u001b[0m\n",
      "\u001b[34m[2019-12-18 20:33:11.462] [tensorio] [info] epoch_stats={\"data_pipeline\": \"/opt/ml/input/data/train\", \"epoch\": 1, \"duration\": 62, \"num_examples\": 3, \"num_bytes\": 546720}\u001b[0m\n",
      "\u001b[34m[12/18/2019 20:33:11 INFO 140150121895744] processed a total of 11390 examples\u001b[0m\n",
      "\u001b[34m[12/18/2019 20:33:11 INFO 140150121895744] #progress_metric: host=algo-1, completed 100 % of epochs\u001b[0m\n",
      "\u001b[34m#metrics {\"Metrics\": {\"Max Batches Seen Between Resets\": {\"count\": 1, \"max\": 3, \"sum\": 3.0, \"min\": 3}, \"Number of Batches Since Last Reset\": {\"count\": 1, \"max\": 3, \"sum\": 3.0, \"min\": 3}, \"Number of Records Since Last Reset\": {\"count\": 1, \"max\": 11390, \"sum\": 11390.0, \"min\": 11390}, \"Total Batches Seen\": {\"count\": 1, \"max\": 4, \"sum\": 4.0, \"min\": 4}, \"Total Records Seen\": {\"count\": 1, \"max\": 16390, \"sum\": 16390.0, \"min\": 16390}, \"Max Records Seen Between Resets\": {\"count\": 1, \"max\": 11390, \"sum\": 11390.0, \"min\": 11390}, \"Reset Count\": {\"count\": 1, \"max\": 1, \"sum\": 1.0, \"min\": 1}}, \"EndTime\": 1576701191.463068, \"Dimensions\": {\"Host\": \"algo-1\", \"Meta\": \"training_data_iter\", \"Operation\": \"training\", \"Algorithm\": \"AWS/KMeansWebscale\", \"epoch\": 0}, \"StartTime\": 1576701191.39989}\n",
      "\u001b[0m\n",
      "\u001b[34m[12/18/2019 20:33:11 INFO 140150121895744] #throughput_metric: host=algo-1, train throughput=179845.661926 records/second\u001b[0m\n",
      "\u001b[34m[12/18/2019 20:33:11 WARNING 140150121895744] wait_for_all_workers will not sync workers since the kv store is not running distributed\u001b[0m\n",
      "\u001b[34m[12/18/2019 20:33:11 INFO 140150121895744] shrinking 60 centers into 6\u001b[0m\n",
      "\u001b[34m[12/18/2019 20:33:11 INFO 140150121895744] local kmeans attempt #0. Current mean square distance 0.127901\u001b[0m\n",
      "\u001b[34m[12/18/2019 20:33:11 INFO 140150121895744] local kmeans attempt #1. Current mean square distance 0.125173\u001b[0m\n",
      "\u001b[34m[12/18/2019 20:33:11 INFO 140150121895744] local kmeans attempt #2. Current mean square distance 0.136433\u001b[0m\n",
      "\u001b[34m[12/18/2019 20:33:11 INFO 140150121895744] local kmeans attempt #3. Current mean square distance 0.108178\u001b[0m\n",
      "\u001b[34m[12/18/2019 20:33:11 INFO 140150121895744] local kmeans attempt #4. Current mean square distance 0.117429\u001b[0m\n",
      "\u001b[34m[12/18/2019 20:33:11 INFO 140150121895744] local kmeans attempt #5. Current mean square distance 0.115525\u001b[0m\n",
      "\u001b[34m[12/18/2019 20:33:11 INFO 140150121895744] local kmeans attempt #6. Current mean square distance 0.109255\u001b[0m\n",
      "\u001b[34m[12/18/2019 20:33:11 INFO 140150121895744] local kmeans attempt #7. Current mean square distance 0.120288\u001b[0m\n",
      "\u001b[34m[12/18/2019 20:33:11 INFO 140150121895744] local kmeans attempt #8. Current mean square distance 0.127011\u001b[0m\n",
      "\u001b[34m[12/18/2019 20:33:11 INFO 140150121895744] local kmeans attempt #9. Current mean square distance 0.112753\u001b[0m\n",
      "\u001b[34m[12/18/2019 20:33:11 INFO 140150121895744] finished shrinking process. Mean Square Distance = 0\u001b[0m\n",
      "\u001b[34m[12/18/2019 20:33:11 INFO 140150121895744] #quality_metric: host=algo-1, train msd <loss>=0.108177661896\u001b[0m\n",
      "\u001b[34m[12/18/2019 20:33:11 INFO 140150121895744] compute all data-center distances: inner product took: 20.4473%, (0.014324 secs)\u001b[0m\n",
      "\u001b[34m[12/18/2019 20:33:11 INFO 140150121895744] predict compute msd took: 13.6393%, (0.009555 secs)\u001b[0m\n",
      "\u001b[34m[12/18/2019 20:33:11 INFO 140150121895744] collect from kv store took: 12.3763%, (0.008670 secs)\u001b[0m\n",
      "\u001b[34m[12/18/2019 20:33:11 INFO 140150121895744] splitting centers key-value pair took: 11.8964%, (0.008334 secs)\u001b[0m\n",
      "\u001b[34m[12/18/2019 20:33:11 INFO 140150121895744] batch data loading with context took: 11.1058%, (0.007780 secs)\u001b[0m\n",
      "\u001b[34m[12/18/2019 20:33:11 INFO 140150121895744] compute all data-center distances: point norm took: 10.8999%, (0.007636 secs)\u001b[0m\n",
      "\u001b[34m[12/18/2019 20:33:11 INFO 140150121895744] gradient: cluster size  took: 6.6382%, (0.004650 secs)\u001b[0m\n",
      "\u001b[34m[12/18/2019 20:33:11 INFO 140150121895744] gradient: cluster center took: 6.5123%, (0.004562 secs)\u001b[0m\n",
      "\u001b[34m[12/18/2019 20:33:11 INFO 140150121895744] gradient: one_hot took: 3.3118%, (0.002320 secs)\u001b[0m\n",
      "\u001b[34m[12/18/2019 20:33:11 INFO 140150121895744] update state and report convergance took: 1.9103%, (0.001338 secs)\u001b[0m\n",
      "\u001b[34m[12/18/2019 20:33:11 INFO 140150121895744] compute all data-center distances: center norm took: 0.7440%, (0.000521 secs)\u001b[0m\n",
      "\u001b[34m[12/18/2019 20:33:11 INFO 140150121895744] update set-up time took: 0.4295%, (0.000301 secs)\u001b[0m\n",
      "\u001b[34m[12/18/2019 20:33:11 INFO 140150121895744] predict minus dist took: 0.0888%, (0.000062 secs)\u001b[0m\n",
      "\u001b[34m[12/18/2019 20:33:11 INFO 140150121895744] TOTAL took: 0.0700540542603\u001b[0m\n",
      "\u001b[34m[12/18/2019 20:33:11 INFO 140150121895744] Number of GPUs being used: 0\u001b[0m\n",
      "\u001b[34m#metrics {\"Metrics\": {\"finalize.time\": {\"count\": 1, \"max\": 272.48501777648926, \"sum\": 272.48501777648926, \"min\": 272.48501777648926}, \"initialize.time\": {\"count\": 1, \"max\": 24.890899658203125, \"sum\": 24.890899658203125, \"min\": 24.890899658203125}, \"model.serialize.time\": {\"count\": 1, \"max\": 0.19288063049316406, \"sum\": 0.19288063049316406, \"min\": 0.19288063049316406}, \"update.time\": {\"count\": 1, \"max\": 62.975168228149414, \"sum\": 62.975168228149414, \"min\": 62.975168228149414}, \"epochs\": {\"count\": 1, \"max\": 1, \"sum\": 1.0, \"min\": 1}, \"state.serialize.time\": {\"count\": 1, \"max\": 0.8108615875244141, \"sum\": 0.8108615875244141, \"min\": 0.8108615875244141}, \"_shrink.time\": {\"count\": 1, \"max\": 270.313024520874, \"sum\": 270.313024520874, \"min\": 270.313024520874}}, \"EndTime\": 1576701191.737132, \"Dimensions\": {\"Host\": \"algo-1\", \"Operation\": \"training\", \"Algorithm\": \"AWS/KMeansWebscale\"}, \"StartTime\": 1576701191.366234}\n",
      "\u001b[0m\n",
      "\u001b[34m[12/18/2019 20:33:11 INFO 140150121895744] Test data is not provided.\u001b[0m\n",
      "\u001b[34m#metrics {\"Metrics\": {\"totaltime\": {\"count\": 1, \"max\": 438.7030601501465, \"sum\": 438.7030601501465, \"min\": 438.7030601501465}, \"setuptime\": {\"count\": 1, \"max\": 14.372110366821289, \"sum\": 14.372110366821289, \"min\": 14.372110366821289}}, \"EndTime\": 1576701191.737523, \"Dimensions\": {\"Host\": \"algo-1\", \"Operation\": \"training\", \"Algorithm\": \"AWS/KMeansWebscale\"}, \"StartTime\": 1576701191.737236}\n",
      "\u001b[0m\n"
     ]
    },
    {
     "name": "stdout",
     "output_type": "stream",
     "text": [
      "\n",
      "2019-12-18 20:33:21 Uploading - Uploading generated training model\n",
      "2019-12-18 20:33:21 Completed - Training job completed\n",
      "Training seconds: 59\n",
      "Billable seconds: 59\n",
      "CPU times: user 808 ms, sys: 14 ms, total: 822 ms\n",
      "Wall time: 3min 42s\n"
     ]
    }
   ],
   "source": [
    "%%time\n",
    "kmeans.fit(kmeans.record_set(train_data))"
   ]
  },
  {
   "cell_type": "code",
   "execution_count": 14,
   "metadata": {},
   "outputs": [
    {
     "name": "stdout",
     "output_type": "stream",
     "text": [
      "----------------------------------------------------------------------------------------------------------------------------------------------!CPU times: user 746 ms, sys: 36.3 ms, total: 782 ms\n",
      "Wall time: 11min 57s\n"
     ]
    }
   ],
   "source": [
    "%%time\n",
    "kmeans_predictor = kmeans.deploy(initial_instance_count=1, \n",
    "                                 instance_type='ml.t2.medium')"
   ]
  },
  {
   "cell_type": "code",
   "execution_count": 15,
   "metadata": {},
   "outputs": [
    {
     "name": "stdout",
     "output_type": "stream",
     "text": [
      "CPU times: user 743 ms, sys: 2.85 ms, total: 746 ms\n",
      "Wall time: 1.35 s\n"
     ]
    }
   ],
   "source": [
    "\n",
    "%%time\n",
    "result=kmeans_predictor.predict(train_data)"
   ]
  },
  {
   "cell_type": "code",
   "execution_count": 16,
   "metadata": {},
   "outputs": [
    {
     "data": {
      "text/plain": [
       "label {\n",
       "  key: \"closest_cluster\"\n",
       "  value {\n",
       "    float32_tensor {\n",
       "      values: 0.0\n",
       "    }\n",
       "  }\n",
       "}\n",
       "label {\n",
       "  key: \"distance_to_cluster\"\n",
       "  value {\n",
       "    float32_tensor {\n",
       "      values: 0.5728551745414734\n",
       "    }\n",
       "  }\n",
       "}"
      ]
     },
     "execution_count": 16,
     "metadata": {},
     "output_type": "execute_result"
    }
   ],
   "source": [
    "result[0]"
   ]
  },
  {
   "cell_type": "code",
   "execution_count": 17,
   "metadata": {},
   "outputs": [
    {
     "data": {
      "text/plain": [
       "label {\n",
       "  key: \"closest_cluster\"\n",
       "  value {\n",
       "    float32_tensor {\n",
       "      values: 2.0\n",
       "    }\n",
       "  }\n",
       "}\n",
       "label {\n",
       "  key: \"distance_to_cluster\"\n",
       "  value {\n",
       "    float32_tensor {\n",
       "      values: 0.32184845209121704\n",
       "    }\n",
       "  }\n",
       "}"
      ]
     },
     "execution_count": 17,
     "metadata": {},
     "output_type": "execute_result"
    }
   ],
   "source": [
    "result[1]"
   ]
  },
  {
   "cell_type": "code",
   "execution_count": 18,
   "metadata": {},
   "outputs": [],
   "source": [
    "\n",
    "cluster_labels = [r.label['closest_cluster'].float32_tensor.values[0] for r in result]"
   ]
  },
  {
   "cell_type": "code",
   "execution_count": 19,
   "metadata": {},
   "outputs": [
    {
     "data": {
      "text/plain": [
       "0.0    2590\n",
       "3.0    2021\n",
       "5.0    1886\n",
       "4.0    1822\n",
       "2.0    1782\n",
       "1.0    1289\n",
       "Name: 0, dtype: int64"
      ]
     },
     "execution_count": 19,
     "metadata": {},
     "output_type": "execute_result"
    }
   ],
   "source": [
    "pd.DataFrame(cluster_labels)[0].value_counts()"
   ]
  },
  {
   "cell_type": "code",
   "execution_count": 20,
   "metadata": {},
   "outputs": [
    {
     "data": {
      "text/plain": [
       "array([0.16666667, 0.16666667, 0.8333333 , 0.16666667, 0.16666667,\n",
       "       0.        ], dtype=float32)"
      ]
     },
     "execution_count": 20,
     "metadata": {},
     "output_type": "execute_result"
    }
   ],
   "source": [
    "train_data[0]"
   ]
  },
  {
   "cell_type": "code",
   "execution_count": 21,
   "metadata": {},
   "outputs": [
    {
     "data": {
      "text/plain": [
       "label {\n",
       "  key: \"closest_cluster\"\n",
       "  value {\n",
       "    float32_tensor {\n",
       "      values: 0.0\n",
       "    }\n",
       "  }\n",
       "}\n",
       "label {\n",
       "  key: \"distance_to_cluster\"\n",
       "  value {\n",
       "    float32_tensor {\n",
       "      values: 0.5728551745414734\n",
       "    }\n",
       "  }\n",
       "}"
      ]
     },
     "execution_count": 21,
     "metadata": {},
     "output_type": "execute_result"
    }
   ],
   "source": [
    "result[0]"
   ]
  },
  {
   "cell_type": "code",
   "execution_count": 28,
   "metadata": {},
   "outputs": [
    {
     "data": {
      "text/plain": [
       "2.0"
      ]
     },
     "execution_count": 28,
     "metadata": {},
     "output_type": "execute_result"
    }
   ],
   "source": [
    "cluster_labels[6]"
   ]
  },
  {
   "cell_type": "code",
   "execution_count": 29,
   "metadata": {},
   "outputs": [
    {
     "data": {
      "text/plain": [
       "11390"
      ]
     },
     "execution_count": 29,
     "metadata": {},
     "output_type": "execute_result"
    }
   ],
   "source": [
    "len(cluster_labels)"
   ]
  },
  {
   "cell_type": "code",
   "execution_count": 32,
   "metadata": {},
   "outputs": [
    {
     "name": "stdout",
     "output_type": "stream",
     "text": [
      "11390\n"
     ]
    }
   ],
   "source": [
    "with open('predicted_labels.csv', mode='w') as csv_file:\n",
    "    csv_writer = csv.writer(csv_file, delimiter=',')\n",
    "    i = 0\n",
    "    for label in cluster_labels:\n",
    "        csv_writer.writerow([i, cluster_labels[i]])\n",
    "        i += 1\n",
    "    print(i)"
   ]
  },
  {
   "cell_type": "code",
   "execution_count": 36,
   "metadata": {},
   "outputs": [
    {
     "name": "stdout",
     "output_type": "stream",
     "text": [
      "Counter({0.0: 2590, 3.0: 2021, 5.0: 1886, 4.0: 1822, 2.0: 1782, 1.0: 1289})\n"
     ]
    }
   ],
   "source": [
    "from collections import Counter\n",
    "counter1 = Counter()\n",
    "with open('predicted_labels.csv') as csv_file:\n",
    "    csv_reader = csv.reader(csv_file, delimiter=',')\n",
    "    for line in csv_reader:\n",
    "        # print(line)\n",
    "        label = float(line[1])\n",
    "        counter1[label] += 1\n",
    "print(counter1)"
   ]
  },
  {
   "cell_type": "code",
   "execution_count": 37,
   "metadata": {},
   "outputs": [
    {
     "data": {
      "text/plain": [
       "2304"
      ]
     },
     "execution_count": 37,
     "metadata": {},
     "output_type": "execute_result"
    }
   ],
   "source": [
    "job_name='kmeans-2019-12-18-20-30-07-551'\n",
    "model_key = \"flavor/\" + job_name + \"/output/model.tar.gz\"\n",
    "\n",
    "boto3.resource('s3').Bucket(bucket).download_file(model_key, 'model.tar.gz')\n",
    "os.system('tar -zxvf model.tar.gz')\n",
    "os.system('unzip model_algo-1')"
   ]
  },
  {
   "cell_type": "code",
   "execution_count": 38,
   "metadata": {},
   "outputs": [],
   "source": [
    "Kmeans_model_params = mx.ndarray.load('model_algo-1')"
   ]
  },
  {
   "cell_type": "code",
   "execution_count": 39,
   "metadata": {},
   "outputs": [],
   "source": [
    "cluster_centroids=pd.DataFrame(Kmeans_model_params[0].asnumpy())"
   ]
  },
  {
   "cell_type": "code",
   "execution_count": 40,
   "metadata": {},
   "outputs": [
    {
     "data": {
      "text/html": [
       "<div>\n",
       "<style scoped>\n",
       "    .dataframe tbody tr th:only-of-type {\n",
       "        vertical-align: middle;\n",
       "    }\n",
       "\n",
       "    .dataframe tbody tr th {\n",
       "        vertical-align: top;\n",
       "    }\n",
       "\n",
       "    .dataframe thead th {\n",
       "        text-align: right;\n",
       "    }\n",
       "</style>\n",
       "<table border=\"1\" class=\"dataframe\">\n",
       "  <thead>\n",
       "    <tr style=\"text-align: right;\">\n",
       "      <th></th>\n",
       "      <th>0</th>\n",
       "      <th>1</th>\n",
       "      <th>2</th>\n",
       "      <th>3</th>\n",
       "      <th>4</th>\n",
       "      <th>5</th>\n",
       "    </tr>\n",
       "  </thead>\n",
       "  <tbody>\n",
       "    <tr>\n",
       "      <th>0</th>\n",
       "      <td>0.184647</td>\n",
       "      <td>0.322558</td>\n",
       "      <td>0.302091</td>\n",
       "      <td>0.217610</td>\n",
       "      <td>0.259755</td>\n",
       "      <td>0.100293</td>\n",
       "    </tr>\n",
       "    <tr>\n",
       "      <th>1</th>\n",
       "      <td>0.249609</td>\n",
       "      <td>0.339738</td>\n",
       "      <td>0.788035</td>\n",
       "      <td>0.749922</td>\n",
       "      <td>0.726648</td>\n",
       "      <td>0.136051</td>\n",
       "    </tr>\n",
       "    <tr>\n",
       "      <th>2</th>\n",
       "      <td>0.226710</td>\n",
       "      <td>0.395833</td>\n",
       "      <td>0.776565</td>\n",
       "      <td>0.698963</td>\n",
       "      <td>0.467158</td>\n",
       "      <td>0.742358</td>\n",
       "    </tr>\n",
       "    <tr>\n",
       "      <th>3</th>\n",
       "      <td>0.190003</td>\n",
       "      <td>0.245860</td>\n",
       "      <td>0.322945</td>\n",
       "      <td>0.237880</td>\n",
       "      <td>0.570084</td>\n",
       "      <td>0.712285</td>\n",
       "    </tr>\n",
       "    <tr>\n",
       "      <th>4</th>\n",
       "      <td>0.230551</td>\n",
       "      <td>0.560950</td>\n",
       "      <td>0.742665</td>\n",
       "      <td>0.650577</td>\n",
       "      <td>0.205565</td>\n",
       "      <td>0.084706</td>\n",
       "    </tr>\n",
       "    <tr>\n",
       "      <th>5</th>\n",
       "      <td>0.195973</td>\n",
       "      <td>0.242355</td>\n",
       "      <td>0.341658</td>\n",
       "      <td>0.299100</td>\n",
       "      <td>0.738447</td>\n",
       "      <td>0.149337</td>\n",
       "    </tr>\n",
       "  </tbody>\n",
       "</table>\n",
       "</div>"
      ],
      "text/plain": [
       "          0         1         2         3         4         5\n",
       "0  0.184647  0.322558  0.302091  0.217610  0.259755  0.100293\n",
       "1  0.249609  0.339738  0.788035  0.749922  0.726648  0.136051\n",
       "2  0.226710  0.395833  0.776565  0.698963  0.467158  0.742358\n",
       "3  0.190003  0.245860  0.322945  0.237880  0.570084  0.712285\n",
       "4  0.230551  0.560950  0.742665  0.650577  0.205565  0.084706\n",
       "5  0.195973  0.242355  0.341658  0.299100  0.738447  0.149337"
      ]
     },
     "execution_count": 40,
     "metadata": {},
     "output_type": "execute_result"
    }
   ],
   "source": [
    "cluster_centroids"
   ]
  },
  {
   "cell_type": "code",
   "execution_count": null,
   "metadata": {},
   "outputs": [],
   "source": []
  }
 ],
 "metadata": {
  "kernelspec": {
   "display_name": "conda_amazonei_mxnet_p36",
   "language": "python",
   "name": "conda_amazonei_mxnet_p36"
  },
  "language_info": {
   "codemirror_mode": {
    "name": "ipython",
    "version": 3
   },
   "file_extension": ".py",
   "mimetype": "text/x-python",
   "name": "python",
   "nbconvert_exporter": "python",
   "pygments_lexer": "ipython3",
   "version": "3.6.5"
  }
 },
 "nbformat": 4,
 "nbformat_minor": 2
}
